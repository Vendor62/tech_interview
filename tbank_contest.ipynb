{
 "cells": [
  {
   "cell_type": "markdown",
   "metadata": {},
   "source": [
    "### EDU Т-Банк Вечный контест 2024"
   ]
  },
  {
   "cell_type": "markdown",
   "metadata": {},
   "source": [
    "#### Задача 1\n",
    "\n",
    "Костя подключен к мобильному оператору «Мобайл». Абонентская плата Кости составляет  рублей в месяц. За эту стоимость Костя получает  мегабайт интернет-трафика. Если Костя выйдет за лимит трафика, то каждый следующий мегабайт будет стоить ему  рублей.\n",
    "Костя планирует потратить  мегабайт интернет-трафика в следующий месяц. Помогите ему сосчитать, во сколько рублей ему обойдется интернет."
   ]
  },
  {
   "cell_type": "code",
   "execution_count": null,
   "metadata": {},
   "outputs": [
    {
     "name": "stdout",
     "output_type": "stream",
     "text": [
      "100\n"
     ]
    }
   ],
   "source": [
    "string = '100  10  12  1'\n",
    "\n",
    "nums = list(map(int, string.split()))\n",
    "a, b, c, d = nums\n",
    "\n",
    "if d > b:\n",
    "    result = a + (d - b) * c\n",
    "else:\n",
    "    result = a\n",
    "        \n",
    "print(result)"
   ]
  },
  {
   "cell_type": "markdown",
   "metadata": {},
   "source": [
    "#### Задача 2\n",
    "\n",
    "Ваня принес на кухню рулет, который он хочет разделить с коллегами. Для этого он хочет разрезать рулет на  равных частей. Разумеется, рулет можно резать только поперек. Соотвественно, Костя сделает  разрез ножом через равные промежутки. По возвращению с кофе-брейка Ваня задумался — а можно ли было обойтись меньшим числом движений, будь нож Вани бесконечно длинным (иначе говоря, если он мог бы сделать сколько угодно разрезов за раз, если эти разрезы лежат на одной прямой)? Считается, что места для разрезов намечены заранее, и все разрезы делаются с ювелирной точностью.\n",
    "Оказывается, что можно. Например, если Ваня хотел бы разделить рулет на  части, он мог бы обойтись двумя разрезами — сначала он разделил бы рулет на две половинки, а потом совместил бы две половинки и разрезал обе пополам одновременно.\n",
    "Вам дано число , требуется сказать, каким минимальным числом разрезов можно обойтись."
   ]
  },
  {
   "cell_type": "markdown",
   "metadata": {},
   "source": [
    "Классическая задача определения сложности алгоритма, в данном случае логарифмического."
   ]
  },
  {
   "cell_type": "code",
   "execution_count": null,
   "metadata": {},
   "outputs": [
    {
     "name": "stdout",
     "output_type": "stream",
     "text": [
      "3\n"
     ]
    }
   ],
   "source": [
    "import math\n",
    "\n",
    "string = '5'\n",
    "\n",
    "a = int(string)\n",
    "result = math.log2(a)\n",
    "\n",
    "print(math.ceil(result))"
   ]
  },
  {
   "cell_type": "markdown",
   "metadata": {},
   "source": [
    "Либо как вариант через счётчик с циклом."
   ]
  },
  {
   "cell_type": "code",
   "execution_count": null,
   "metadata": {},
   "outputs": [
    {
     "name": "stdout",
     "output_type": "stream",
     "text": [
      "3\n"
     ]
    }
   ],
   "source": [
    "string = '5'\n",
    "\n",
    "n = int(string)\n",
    "parts = 1\n",
    "cuts = 0\n",
    "\n",
    "while parts < n:\n",
    "    parts *= 2 \n",
    "    cuts += 1\n",
    "\n",
    "print(cuts)"
   ]
  },
  {
   "cell_type": "markdown",
   "metadata": {},
   "source": [
    "#### Задача 3\n",
    "\n",
    "У Кати насыщенный день на работе. Ей надо передать n разных договоров коллегам. Все встречи происходят на разных этажах, а между этажами можно перемещаться только по лестничным пролетам — считается, что это улучшает физическую форму сотрудников. Прохождение каждого пролета занимает ровно  минуту.\n",
    "Сейчас Катя на парковочном этаже, планирует свой маршрут. Коллег можно посетить в любом порядке, но один из них покинет офис через  минут. С парковочного этажа лестницы нет — только лифт, на котором можно подняться на любой этаж.\n",
    "В итоге план Кати следующий:\n",
    "- Подняться на лифте на произвольный этаж. Считается, что лифт поднимается на любой этаж за  минут.\n",
    "- Передать всем коллегам договоры, перемещаясь между этажами по лестнице. Считается, что договоры на этаже передаются мгновенно.\n",
    "- В первые  минут передать договор тому коллеге, который планирует уйти.\n",
    "- Пройти минимальное количество лестничных пролетов.\n",
    "\n",
    "Помогите Кате выполнить все пункты ее плана.\n"
   ]
  },
  {
   "cell_type": "code",
   "execution_count": 5,
   "metadata": {},
   "outputs": [
    {
     "name": "stdout",
     "output_type": "stream",
     "text": [
      "31\n"
     ]
    }
   ],
   "source": [
    "str1 = '6  4'\n",
    "str2 = '1  2  3  6  8  25'\n",
    "str3 = '5'\n",
    "\n",
    "t = int(str1.split()[-1])\n",
    "floors = list(map(int, str2.split()))\n",
    "out = int(str3.split()[0]) - 1\n",
    "total = floors[-1] - floors[0]\n",
    "\n",
    "if floors[out] - floors[0] <= t:\n",
    "    result = total\n",
    "elif floors[-1] - floors[out] <= t:\n",
    "    result = total\n",
    "else:\n",
    "    result = min(floors[-1] - floors[out], floors[out] - floors[0]) + total\n",
    "\n",
    "print(result)"
   ]
  },
  {
   "cell_type": "markdown",
   "metadata": {},
   "source": [
    "#### Задача 4\n",
    "\n",
    "У Кости есть бумажка, на которой написано  чисел. Также у него есть возможность не больше, чем  раз, взять любое число с бумажки, после чего закрасить одну из старых цифр, а на ее месте написать новую произвольную цифру.\n",
    "На какое максимальное значение Костя сможет увеличить сумму всех чисел на листочке?"
   ]
  },
  {
   "cell_type": "code",
   "execution_count": null,
   "metadata": {},
   "outputs": [
    {
     "name": "stdout",
     "output_type": "stream",
     "text": [
      "10\n"
     ]
    }
   ],
   "source": [
    "str1 = '3  1'\n",
    "str2 = '99  5  85'\n",
    "\n",
    "n, k = map(int, str1.split())\n",
    "nums = list(map(int, str2.split()))\n",
    "\n",
    "if n == 1 and nums[0] == 9999:\n",
    "    result = 0\n",
    "elif len(''.join(str2.split())) == n:\n",
    "    char_list = list(str2)\n",
    "    digits = [int(char) for char in char_list if char.isdigit()]\n",
    "    min_digits = sorted(digits)[:k]\n",
    "    counts = 0\n",
    "    for i in range(len(char_list)):\n",
    "        if char_list[i].isdigit() and int(char_list[i]) in min_digits:\n",
    "            char_list[i] = '9'\n",
    "            counts += 1\n",
    "            if counts == k:\n",
    "                break\n",
    "    nums_new = ''.join(char_list)\n",
    "    nums_new = list(map(int, nums_new.split()))\n",
    "    result = sum(map(int, nums_new)) - sum(map(int, nums))\n",
    "else: \n",
    "    nums_split = str2.split()\n",
    "    nums_split = sorted(nums_split, reverse=True)\n",
    "    counts = 0\n",
    "    for i in range(len(nums_split)):\n",
    "        digits = list(nums_split[i])\n",
    "        for j in range(len(digits)):\n",
    "            if int(digits[j]) < 9:\n",
    "                digits[j] = '9'\n",
    "                counts += 1\n",
    "                if counts == k:\n",
    "                    nums_split[i] = ''.join(digits)\n",
    "                    break\n",
    "        nums_split[i] = ''.join(digits)\n",
    "        if counts == k:\n",
    "            break           \n",
    "        \n",
    "    nums_new = ' '.join(nums_split)\n",
    "    nums_new = list(map(int, nums_new.split()))\n",
    "    result = sum(map(int, nums_new)) - sum(map(int, nums))\n",
    "\n",
    "print(result)"
   ]
  },
  {
   "cell_type": "markdown",
   "metadata": {},
   "source": [
    "Тут, конечно, один сплошной костыль. Примеры проходит, но тесты нет, не знаю, что не так :("
   ]
  },
  {
   "cell_type": "markdown",
   "metadata": {},
   "source": [
    "#### Задача 5\n",
    "\n",
    "Во время разработки некоторой задачи Саша решил сгенерировать несколько новых тестов. Каждый тест Саши должен представлять собой натуральное число, не меньшее  и не большее . Кроме того, натуральное число в тесте обязательно должно состоять из одинаковых цифр.\n",
    "Например, число  подходит под это требование, а число  — нет. Какое максимальное число различных тестов сможет создать Саша?"
   ]
  },
  {
   "cell_type": "code",
   "execution_count": null,
   "metadata": {},
   "outputs": [
    {
     "name": "stdout",
     "output_type": "stream",
     "text": [
      "9\n"
     ]
    }
   ],
   "source": [
    "string = '10  100'\n",
    "\n",
    "min_num, max_num = map(int, string.split())\n",
    "min_length = len(str(min_num))\n",
    "max_length = len(str(max_num))\n",
    "rigt_nums = []\n",
    "\n",
    "for length in range(min_length, max_length + 1):\n",
    "    for digit in range(1, 10):  \n",
    "        num = int(str(digit) * length)  \n",
    "        if min_num <= num <= max_num:  \n",
    "            rigt_nums.append(num)\n",
    "\n",
    "print(len(rigt_nums))"
   ]
  },
  {
   "cell_type": "markdown",
   "metadata": {},
   "source": [
    "#### Задача 6\n",
    "\n",
    "На физкультуре происходит разбиение по двум командам. Ребята выстроены в шеренгу, у каждого из них есть свой рост. Разбиение по командам произойдет по принципу «четный-нечетный» — все школьники с четным ростом отправляются в одну команду, а нечетные — в другую.\n",
    "В отличие от привычного урока, ребята не выстроились по росту. Вместо привычного порядка они встали случайно. Теперь физрук Яша смотрит на шеренгу и думает — может ли ровно одна пара учеников поменяться местами так, чтобы команды оказались такими же, как и по принципу «первый-второй». Иначе говоря, он хочет получить такой порядок, при котором все ученики с четным ростом стоят на четных позициях, а с нечетным — на нечетных.\n",
    "Помогите Яше найти нужную замену."
   ]
  },
  {
   "cell_type": "code",
   "execution_count": null,
   "metadata": {},
   "outputs": [
    {
     "name": "stdout",
     "output_type": "stream",
     "text": [
      "1 2\n"
     ]
    }
   ],
   "source": [
    "str1 = '4'\n",
    "str2 = '2  1'\n",
    "\n",
    "nums = list(map(int, str2.split()))\n",
    "\n",
    "def is_correct(numbers):\n",
    "    for i in range(len(numbers)):\n",
    "        if i % 2 == 0:  \n",
    "            if numbers[i] % 2 == 0:  \n",
    "                return False\n",
    "        else: \n",
    "            if numbers[i] % 2 != 0:  \n",
    "                return False\n",
    "    return True\n",
    "\n",
    "elems_lst = []\n",
    "for i in range(len(nums)):\n",
    "    for j in range(i + 1, len(nums)):\n",
    "        nums[i], nums[j] = nums[j], nums[i]  \n",
    "        if is_correct(nums):  \n",
    "            elems_lst.append([i + 1, j + 1]) \n",
    "        nums[i], nums[j] = nums[j], nums[i]  \n",
    "\n",
    "if elems_lst:\n",
    "    result = ' '.join(map(str, elems_lst[0]))  \n",
    "else:\n",
    "    result = '-1 -1'\n",
    "\n",
    "print(result)"
   ]
  },
  {
   "cell_type": "markdown",
   "metadata": {},
   "source": [
    "Проходит только 8 тестов :((("
   ]
  },
  {
   "cell_type": "markdown",
   "metadata": {},
   "source": [
    "#### Задача 7\n",
    "\n",
    "В школе перед Новым Годом устраивают игру в Тайного Санту. Каждому ученику i выдается ученик a(i), которому он должен подарить подарок.\n",
    "Костя, как администратор игры, определил каждому школьнику свое число a(i). Но потом его коллега Маша спросила: А правда ли, что если начать цепочку подарков от школьника 1 к школьнику a(1), потом a(a1) и так далее, то цепочка замкнется на школьнике 1, после того, как задействует всех остальных учеников ровно по одному разу?\n",
    "Костя не знает, правда это или нет, но он собирается изменить ровно одно число a(i), чтобы получить конфигурацию, которая устроит Машу. Помогите ему с этим."
   ]
  },
  {
   "cell_type": "code",
   "execution_count": 35,
   "metadata": {},
   "outputs": [
    {
     "name": "stdout",
     "output_type": "stream",
     "text": [
      "1 2\n"
     ]
    }
   ],
   "source": [
    "str1 = '3'\n",
    "str2 = '1 3 1'\n",
    "\n",
    "n = int(str1)\n",
    "ai = list(map(int, str2.split()))\n",
    "\n",
    "def is_correct(lst, n):\n",
    "    visited = set()\n",
    "    current = 1\n",
    "    \n",
    "    for _ in range(n):\n",
    "        if current in visited:\n",
    "            return False  \n",
    "        visited.add(current)\n",
    "        current = lst[current - 1]  \n",
    "\n",
    "    if current != 1:\n",
    "        return False\n",
    "    \n",
    "    if len(visited) != n:\n",
    "        return False\n",
    "    \n",
    "    return True\n",
    "\n",
    "if is_correct(ai, n):\n",
    "    result = '-1 -1'\n",
    "\n",
    "replaces = list(range(1, n+1))\n",
    "result_lst = []\n",
    "\n",
    "for i in range(len(ai)):\n",
    "    temp_replaces = replaces[:]\n",
    "    temp_replaces.remove(ai[i])\n",
    "    \n",
    "    for j in range(len(temp_replaces)):\n",
    "        ai[i] = temp_replaces[j]\n",
    "        \n",
    "        if is_correct(ai, n):\n",
    "            result_lst.append(\n",
    "                f\"{i + 1} {temp_replaces[j]}\"\n",
    "            )            \n",
    "\n",
    "if result_lst:\n",
    "    result = result_lst[0]\n",
    "else:\n",
    "    result = '-1 -1'\n",
    "    \n",
    "print(result)  "
   ]
  },
  {
   "cell_type": "markdown",
   "metadata": {},
   "source": [
    "Проходит три теста)))))))))))))"
   ]
  },
  {
   "cell_type": "markdown",
   "metadata": {},
   "source": []
  }
 ],
 "metadata": {
  "kernelspec": {
   "display_name": "Python (mipt2)",
   "language": "python",
   "name": "mipt2"
  },
  "language_info": {
   "codemirror_mode": {
    "name": "ipython",
    "version": 3
   },
   "file_extension": ".py",
   "mimetype": "text/x-python",
   "name": "python",
   "nbconvert_exporter": "python",
   "pygments_lexer": "ipython3",
   "version": "3.11.5"
  }
 },
 "nbformat": 4,
 "nbformat_minor": 2
}
