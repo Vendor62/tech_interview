{
  "nbformat": 4,
  "nbformat_minor": 0,
  "metadata": {
    "colab": {
      "provenance": []
    },
    "kernelspec": {
      "name": "python3",
      "display_name": "Python 3"
    },
    "language_info": {
      "name": "python"
    }
  },
  "cells": [
    {
      "cell_type": "markdown",
      "source": [
        "# Тестовое задание на позицию продуктового аналитика\n",
        "\n",
        "[Ссылка на вакансию](https://hh.ru/vacancy/115519135)<br>\n",
        "Выполнил: Дмитрий Поликарпов<br>\n",
        "troyan27@yandex.ru<br>\n",
        "tg: @vendor62x<br><br>\n",
        "\n",
        "\n",
        "## Задача\n",
        "У нас есть 2 таблицы с данными описанные ниже. Они покрывают события типа:\n",
        "- Поисковые события\n",
        "- Клики на сайтах\n",
        "\t- Клик на товар (eventType - product_click)\n",
        "\t- Добавление в корзину (eventType - card_add_event)\n",
        "\t- Клик на коризну (eventType - card_click_event)\n",
        "\t- Клик на завершение оплаты (eventType - order_click)\n",
        "\n",
        "Они хранятся в базе данных Clickhouse (но можно использовать любой sql диалект)\n",
        "\n",
        "Задача: Вам необходимо предложить метрики, методы их расчета и визуализации на основе имеющихся данных. Доступные инструменты для использования:\n",
        "SQL\n",
        "Python\n",
        "BI системы (можно описать график который использовали бы для визуализации, пример - линейный график с осями.....)\n",
        "Кол-во метрик и глубину погружения определяете сами.\n"
      ],
      "metadata": {
        "id": "KHo0io-5-e9_"
      }
    },
    {
      "cell_type": "markdown",
      "source": [
        "Таблица `Searches`\n",
        "\n",
        "| Column Name       | Description                                                                 |\n",
        "|-------------------|-----------------------------------------------------------------------------|\n",
        "| timestamp         | Дата и время события                                                         |\n",
        "| remoteHost        | IP-адрес или хост пользователя, с которого поступил запрос.                 |\n",
        "| location          | Текущий URL                                                                  |\n",
        "| referer           | URL-источник, откуда пользователь перешёл                                    |\n",
        "| regionId          | Идентификатор региона пользователя                                           |\n",
        "| channel           | Тип браузера                                                                |\n",
        "| eventType         | Тип события                                                                  |\n",
        "| sessionId         | Уникальный идентификатор сессии                                              |\n",
        "| userId            | Уникальный идентификатор пользователя                                        |\n",
        "| userGUID          | GUID пользователя (генерируется при установке приложения)                    |\n",
        "| viewGUID          | Уникальный GUID для конкретного просмотра/экрана/страницы                   |\n",
        "| pageNumber        | Номер страницы (например, для пагинации результатов поиска)                 |\n",
        "| searchTerm        | Поисковый запрос, введённый пользователем                                     |\n",
        "| pageProducts      | Список товаров, отображённых на текущей странице                             |\n",
        "| searchWorked      | Признак, указывающий, сработал ли поисковый движок                           |\n",
        "| synonymsWorked    | Признак, указывающий, сработал ли поисковый движок с использованием синонимов|\n",
        "| originalSearchTerm| Исходный поисковый запрос пользователя (до применения автокоррекции и т. д.) |\n",
        "| isFromRedirect    | Признак, указывающий, был ли редирект на конкретную страницу после поиска     |\n",
        "| isZeroQuery       | Признак «нулевого» запроса, когда пользователь не вводил ключевых слов.      |\n"
      ],
      "metadata": {
        "id": "flLgYvdKAht3"
      }
    },
    {
      "cell_type": "markdown",
      "source": [
        "Таблица `Widget clicks`\n",
        "\n",
        "| Column Name       | Description                                                                 |\n",
        "|-------------------|-----------------------------------------------------------------------------|\n",
        "| timestamp         | Временная метка события (DateTime в часовом поясе Europe/Moscow).            |\n",
        "| remoteHost        | IP-адрес или доменное имя клиента, с которого поступил запрос.             |\n",
        "| location          | Текущий URL                                                                  |\n",
        "| referer           | URL-источник, откуда пользователь перешёл                                    |\n",
        "| regionId          | Идентификатор региона пользователя (или сессии)                              |\n",
        "| channel           | Тип браузера                                                                |\n",
        "| eventType         | Тип события (клик, просмотр, покупка, переход и т. д.)                       |\n",
        "| sessionId         | Уникальный идентификатор сессии                                              |\n",
        "| userGUID          | GUID пользователя (генерируется при установке приложения или при первой сессии на сайте) |\n",
        "| viewGUID          | Уникальный GUID для конкретного просмотра/экрана/страницы                   |\n",
        "| pageNumber        | Номер страницы (например, при пагинации результатов поиска или списка товаров) |\n",
        "| productId         | Идентификатор конкретного продукта (если событие связано с товаром)          |\n",
        "| position          | Позиция товара или элемента на странице (например, в списке результатов)    |\n",
        "| widgetType        | Тип виджета/блока, в котором отображается контент (например, рекомендации, баннер) |\n"
      ],
      "metadata": {
        "id": "efBLs78AAw_1"
      }
    },
    {
      "cell_type": "markdown",
      "source": [
        "## Решение\n",
        "\n",
        "### Воронка конверсии\n",
        "\n",
        "#### 1. CTR поисковых запросов (Search to Product Click) <br>\n",
        "\n",
        "Допустим, что все записи в таблице `Searches` относятся к поисковым запросам, тогда нужное разделение на поисковые события и клики на товары мы делаем по значениям столбца `eventType` в таблице `Widget clicks`. Для вычисления метрики нужно посчитать, сколько пользователей, сделавших поисковой запрос, кликнули на товар на страницах с результатами поиска."
      ],
      "metadata": {
        "id": "uQIcz1VuA_oF"
      }
    },
    {
      "cell_type": "markdown",
      "source": [
        "```sql\n",
        "WITH search_data AS (\n",
        "    SELECT\n",
        "        DISTINCT sessionId,\n",
        "        toDate(timestamp) AS event_date\n",
        "    FROM Searches\n",
        "),\n",
        "\n",
        "product_click_data AS (\n",
        "    SELECT\n",
        "        DISTINCT sessionId,\n",
        "        toDate(timestamp) AS event_date\n",
        "    FROM `Widget clicks`\n",
        "    WHERE eventType = 'product_click'\n",
        ")\n",
        "\n",
        "SELECT\n",
        "    s.event_date,\n",
        "    COUNT(DISTINCT p.sessionId) / COUNT(DISTINCT s.sessionId) * 100 AS search_conversion_rate\n",
        "FROM search_data AS s\n",
        "LEFT JOIN product_click_data AS p ON s.sessionId = p.sessionId AND s.event_date = p.event_date\n",
        "GROUP BY s.event_date\n",
        "ORDER BY s.event_date;\n",
        "```\n"
      ],
      "metadata": {
        "id": "zvituLgzInDa"
      }
    },
    {
      "cell_type": "markdown",
      "source": [
        "- Считаем по `sessionId`, потому что нужно оценить, сколько уникальных сессий с поисковыми запросами завершились кликом на товар.\n",
        "- Отслеживаем динамику по дням.\n",
        "- Визуализация:\n",
        "  - линейный график, показывающий изменение конверсии поиска во времени. Временная ось на X и значение CTR на Y.\n",
        "  - аналогичная столбчатая диаграмма.\n",
        "- аналогичным образом можно посчитать отношение добавлений в корзину, кликов на корзину или завершений оплаты к количеству поисковых запросов."
      ],
      "metadata": {
        "id": "DMMUCgg0LYBZ"
      }
    },
    {
      "cell_type": "markdown",
      "source": [
        "#### 2. CTR добавлений в корзину (Click to Add to Cart).<br>\n",
        "\n",
        "Считаем сколько сессий, в которых был выполнен клик по товару, завершились добавлением товара в корзину."
      ],
      "metadata": {
        "id": "D3Z8ZN71P25h"
      }
    },
    {
      "cell_type": "markdown",
      "source": [
        "```sql\n",
        "WITH product_click_data AS (\n",
        "    SELECT DISTINCT sessionId,\n",
        "           toDate(timestamp) AS event_date\n",
        "    FROM `Widget clicks`\n",
        "    WHERE eventType = 'product_click'\n",
        "),\n",
        "\n",
        "cart_add_data AS (\n",
        "    SELECT DISTINCT sessionId,\n",
        "           toDate(timestamp) AS event_date\n",
        "    FROM `Widget clicks`\n",
        "    WHERE eventType = 'card_add_event'\n",
        ")\n",
        "\n",
        "SELECT\n",
        "    p.event_date,\n",
        "    COUNT(DISTINCT c.sessionId) / COUNT(DISTINCT p.sessionId) * 100 AS click_to_cart_ctr\n",
        "FROM product_click_data AS p\n",
        "LEFT JOIN cart_add_data AS c ON p.sessionId = c.sessionId AND p.event_date = c.event_date\n",
        "GROUP BY p.event_date\n",
        "ORDER BY p.event_date;\n",
        "\n",
        "```"
      ],
      "metadata": {
        "id": "yFaEaivFSp1x"
      }
    },
    {
      "cell_type": "markdown",
      "source": [
        "- Визуализация: линейная диаграмма или столбчатый график."
      ],
      "metadata": {
        "id": "Z0wToXmBS24q"
      }
    },
    {
      "cell_type": "markdown",
      "source": [
        "#### 3. Расчет кликов по корзине и завершения оплаты.\n",
        "Аналогичным образом считаем конверсию переходов к оплате (card_click_event / card_add_event) и завершений заказа (order_click / card_click_event). Таким образом мы сможем визуализировать и отслеживать динамику на каждом из четырёх этапов."
      ],
      "metadata": {
        "id": "ikEu7Y3jVvCG"
      }
    },
    {
      "cell_type": "markdown",
      "source": [
        "#### 4. Построение воронки конверсии.\n",
        "\n",
        "Объединяем все этапы в один запрос для формирования таблицы."
      ],
      "metadata": {
        "id": "q48OH467Xq2Q"
      }
    },
    {
      "cell_type": "markdown",
      "source": [
        "```sql\n",
        "WITH search_data AS (\n",
        "    SELECT DISTINCT sessionId,\n",
        "           toDate(timestamp) AS event_date\n",
        "    FROM Searches\n",
        "),\n",
        "product_click_data AS (\n",
        "    SELECT DISTINCT sessionId,\n",
        "           toDate(timestamp) AS event_date\n",
        "    FROM `Widget clicks`\n",
        "    WHERE eventType = 'product_click'\n",
        "),\n",
        "cart_add_data AS (\n",
        "    SELECT DISTINCT sessionId,\n",
        "           toDate(timestamp) AS event_date\n",
        "    FROM `Widget clicks`\n",
        "    WHERE eventType = 'card_add_event'\n",
        "),\n",
        "order_click_data AS (\n",
        "    SELECT DISTINCT sessionId,\n",
        "           toDate(timestamp) AS event_date\n",
        "    FROM `Widget clicks`\n",
        "    WHERE eventType = 'order_click'\n",
        ")\n",
        "\n",
        "SELECT\n",
        "    s.event_date,\n",
        "    COUNT(DISTINCT s.sessionId) AS search_count,\n",
        "    COUNT(DISTINCT p.sessionId) AS product_click_count,\n",
        "    COUNT(DISTINCT c.sessionId) AS cart_add_count,\n",
        "    COUNT(DISTINCT o.sessionId) AS order_click_count\n",
        "FROM search_data AS s\n",
        "LEFT JOIN product_click_data AS p ON s.sessionId = p.sessionId\n",
        "LEFT JOIN cart_add_data AS c ON s.sessionId = c.sessionId\n",
        "LEFT JOIN order_click_data AS o ON s.sessionId = o.sessionId\n",
        "GROUP BY s.event_date\n",
        "ORDER BY s.event_date;\n",
        "```"
      ],
      "metadata": {
        "id": "wPKu6F75ZQyr"
      }
    },
    {
      "cell_type": "markdown",
      "source": [
        "- Такую таблицу можно выгрузить в BI для создания отчета, который будет отображать метрики по каждому этапу воронки на каждой дате.\n",
        "- В BI-системах можно добавить фильтрацию по дате, чтобы отслеживать воронку для конкретного дня или периода времени.\n",
        "- Для визуализации воронки можно использовать графики типа диаграммы воронки или горизонтальной столбчатой диаграммы, чтобы продемонстрировать, сколько сессий прошло через каждый этап воронки."
      ],
      "metadata": {
        "id": "PQuNrnpOZxX1"
      }
    },
    {
      "cell_type": "markdown",
      "source": [
        "### Поведение пользователей\n",
        "\n",
        "#### 1. Рейтинг удержания.<br>\n",
        "\n",
        "Используем колонку `userId` из таблицы `Searches`, чтобы определить первую активность пользователя. Затем проверяем, когда этот пользователь возвращался (через день, через неделю и т. д.). Retention Rate - отношение числа вернувшихся пользователей к общему количеству пользователей."
      ],
      "metadata": {
        "id": "4Qu8B_hTc0Ku"
      }
    },
    {
      "cell_type": "markdown",
      "source": [
        "```sql\n",
        "WITH first_interaction AS (\n",
        "    -- Находим дату первого взаимодействия для каждого пользователя\n",
        "    SELECT\n",
        "        userId,\n",
        "        MIN(DATE(timestamp)) AS first_date\n",
        "    FROM Searches\n",
        "    GROUP BY userId\n",
        "),\n",
        "daily_interactions AS (\n",
        "    -- Определяем дни взаимодействий пользователей относительно их первого дня\n",
        "    SELECT\n",
        "        f.userId,\n",
        "        f.first_date,\n",
        "        DATE(s.timestamp) AS event_date,\n",
        "        DATEDIFF(DATE(s.timestamp), f.first_date) AS days_since_first\n",
        "    FROM first_interaction AS f\n",
        "    JOIN Searches AS s\n",
        "      ON f.userId = s.userId\n",
        "    WHERE DATEDIFF(DATE(s.timestamp), f.first_date) >= 0\n",
        "),\n",
        "retention_summary AS (\n",
        "    -- Считаем, сколько пользователей взаимодействовали в каждый день\n",
        "    SELECT\n",
        "        days_since_first,\n",
        "        COUNT(DISTINCT userId) AS retained_users\n",
        "    FROM daily_interactions\n",
        "    GROUP BY days_since_first\n",
        "),\n",
        "total_users AS (\n",
        "    -- Определяем общее количество пользователей, совершивших первое взаимодействие\n",
        "    SELECT\n",
        "        COUNT(DISTINCT userId) AS total_users\n",
        "    FROM first_interaction\n",
        ")\n",
        "-- Рассчитываем Retention Rate\n",
        "SELECT\n",
        "    r.days_since_first,\n",
        "    r.retained_users,\n",
        "    t.total_users,\n",
        "    (r.retained_users / t.total_users) * 100 AS retention_rate\n",
        "FROM retention_summary AS r\n",
        "CROSS JOIN total_users AS t\n",
        "ORDER BY r.days_since_first;\n",
        "\n",
        "```"
      ],
      "metadata": {
        "id": "KMiRhI50keNX"
      }
    },
    {
      "cell_type": "markdown",
      "source": [
        "- Такую таблицу можно визуализировать линейным графиком для отображения RR по дням.\n",
        "- RR можно также рассчитывать по кликам, добавлениям в корзину и покупкам, используя stacked bar chart, чтобы показать сравнение.\n",
        "- Можно применить методы когортного анализа, сгруппировав пользователей, например, по дате их привлечения и в дальнейшем отслеживать поведение когорты.\n",
        "- RR по когортам можно визуализировать также линейным графиком или тепловой картой, используя при этом кумулятивный подсчёт, который более удобен для сравнения когорт."
      ],
      "metadata": {
        "id": "WKAuXSezpOQ-"
      }
    },
    {
      "cell_type": "markdown",
      "source": [
        "#### 2. Показатель \"покинутой корзины\" по регионам.<br>\n",
        "\n",
        "Эта метрика покажет, какой процент пользователей из разных регионов покидает корзину, не совершив покупку."
      ],
      "metadata": {
        "id": "PDOYjmb-x9YY"
      }
    },
    {
      "cell_type": "markdown",
      "source": [
        "```sql\n",
        "WITH add_to_cart AS (\n",
        "    SELECT DISTINCT sessionId, regionId\n",
        "    FROM `Widget clicks`\n",
        "    WHERE eventType = 'card_add_event'\n",
        "),\n",
        "order_click AS (\n",
        "    SELECT DISTINCT sessionId, regionId\n",
        "    FROM `Widget clicks`\n",
        "    WHERE eventType = 'order_click'\n",
        ")\n",
        "\n",
        "SELECT\n",
        "    a.regionId,\n",
        "    COUNT(DISTINCT a.sessionId) / COUNT(DISTINCT o.sessionId) * 100 AS cart_abandonment_rate\n",
        "FROM add_to_cart As a\n",
        "LEFT JOIN order_click AS o ON a.sessionId = o.sessionId\n",
        "GROUP BY a.regionId;\n",
        "\n",
        "```"
      ],
      "metadata": {
        "id": "qoWbJvE-yWWv"
      }
    },
    {
      "cell_type": "markdown",
      "source": [
        "- Вместо региона можно использовать тип браузера или id продукта, чтобы выявить возможные проблемы, препятствующие совершению покупки."
      ],
      "metadata": {
        "id": "PQjOjC_zIMPO"
      }
    },
    {
      "cell_type": "markdown",
      "source": [
        "#### 3. Расчет времени от поиска до покупки."
      ],
      "metadata": {
        "id": "dlWar2HszIgL"
      }
    },
    {
      "cell_type": "markdown",
      "source": [
        "```sql\n",
        "WITH search_data AS (\n",
        "    SELECT\n",
        "        userId,\n",
        "        sessionId,\n",
        "        MIN(timestamp) AS search_time  -- Время первого поиска в сессии\n",
        "    FROM\n",
        "        Searches\n",
        "    GROUP BY\n",
        "        userId, sessionId\n",
        "),\n",
        "\n",
        "purchase_data AS (\n",
        "    SELECT\n",
        "        userId,\n",
        "        sessionId,\n",
        "        MIN(timestamp) AS purchase_time  -- Время первого клика на покупку в сессии\n",
        "    FROM\n",
        "        `Widget clicks`\n",
        "    WHERE\n",
        "        eventType = 'order_click'\n",
        "    GROUP BY\n",
        "        userId, sessionId\n",
        ")\n",
        "\n",
        "SELECT\n",
        "    s.userId,\n",
        "    s.sessionId,\n",
        "    TIMESTAMPDIFF(SECOND, s.search_time, p.purchase_time) AS time_to_purchase_seconds\n",
        "FROM\n",
        "    search_data AS s\n",
        "JOIN\n",
        "    purchase_data AS p\n",
        "    ON s.userId = p.userId AND s.sessionId = p.sessionId\n",
        "WHERE\n",
        "    TIMESTAMPDIFF(SECOND, s.search_time, p.purchase_time) > 0;\n",
        "\n",
        "```\n"
      ],
      "metadata": {
        "id": "JiGaD-HU0jXy"
      }
    },
    {
      "cell_type": "markdown",
      "source": [
        "- Такую таблицу можно визуализировать несколькими способами:\n",
        "  - Гистограмма покажет распределение времени, которое пользователи тратят от поиска до покупки. Можно увидеть, сколько пользователей совершили покупку в течение определённого промежутка времени.\n",
        "  - Boxplot позволит увидеть медиану времени, а также выбросы и диапазоны для времени между поиском и покупкой.\n",
        "  - Scatter plot поможет визуализировать индивидуальные данные о времени от поиска до покупки для каждого пользователя. Это может помочь выявить аномалии или необычные паттерны."
      ],
      "metadata": {
        "id": "O_BY2sGz1tLq"
      }
    },
    {
      "cell_type": "markdown",
      "source": [
        "### Технические метрики\n",
        "\n",
        "#### 1. Процент неудачных поисков."
      ],
      "metadata": {
        "id": "WVx3DhgvB6kR"
      }
    },
    {
      "cell_type": "markdown",
      "source": [
        "```sql\n",
        "SELECT\n",
        "    DATE(timestamp) AS search_date,\n",
        "    (COUNT(CASE\n",
        "                WHEN searchWorked = 0\n",
        "                AND isZeroQuery = 0\n",
        "            THEN 1\n",
        "            END) /\n",
        "     COUNT(CASE\n",
        "                WHEN isZeroQuery = 0\n",
        "            THEN 1\n",
        "            END) * 100) AS unsuccessful_search_rate\n",
        "FROM Searches\n",
        "GROUP BY DATE(timestamp)\n",
        "ORDER BY search_date;\n",
        "\n",
        "```"
      ],
      "metadata": {
        "id": "acMJj0g2C8jF"
      }
    },
    {
      "cell_type": "markdown",
      "source": [
        "Подсчет и визуализация процента неудачных поисков в динамике помогут:\n",
        "- Оценить эффективность работы поисковой системы с течением времени.\n",
        "- Выявить и проанализировать аномалии в поисковых запросах.\n",
        "- Понять, как изменения на сайте или в поисковом движке влияют на результаты поиска."
      ],
      "metadata": {
        "id": "46yfUDWTEDkF"
      }
    },
    {
      "cell_type": "markdown",
      "source": [
        "#### 2. Анализ неудачных запросов."
      ],
      "metadata": {
        "id": "V7wN2_DoLP-j"
      }
    },
    {
      "cell_type": "markdown",
      "source": [
        "```sql\n",
        "SELECT\n",
        "    searchTerm,\n",
        "    COUNT(*) AS unsuccessful_search_count\n",
        "FROM Searches\n",
        "WHERE searchWorked = 0\n",
        "    AND isZeroQuery = 0\n",
        "GROUP BY searchTerm\n",
        "ORDER BY unsuccessful_search_count DESC;\n",
        "\n",
        "```"
      ],
      "metadata": {
        "id": "Zm1lZL-cLXNu"
      }
    },
    {
      "cell_type": "markdown",
      "source": [
        "Анализ такой таблицы поможет:\n",
        "- Выявлять проблемы с поисковым движком.\n",
        "- Находить недостаточно покрытые запросы.\n",
        "- Прогнозировать тренды и потребности пользователей."
      ],
      "metadata": {
        "id": "iCeToUFDLsXW"
      }
    },
    {
      "cell_type": "markdown",
      "source": [
        "#### 3. Среднее время отклика поиска.\n",
        "\n",
        "С помощью оконной функции вычислим среднее время между успешными поисковыми запросами в рамках одной сессии."
      ],
      "metadata": {
        "id": "R1xaaf8NRoN5"
      }
    },
    {
      "cell_type": "markdown",
      "source": [
        "```sql\n",
        "SELECT\n",
        "    AVG(response_time) AS avg_search_response_time\n",
        "FROM (\n",
        "    SELECT\n",
        "        EXTRACT(EPOCH FROM (\n",
        "            timestamp - LAG(timestamp) OVER (\n",
        "                PARTITION BY sessionId\n",
        "                ORDER BY timestamp\n",
        "            )\n",
        "        )) AS response_time\n",
        "    FROM\n",
        "        Searches\n",
        "    WHERE\n",
        "        isZeroQuery = 0\n",
        "        AND searchWorked = 1\n",
        ") AS response_times\n",
        "WHERE\n",
        "    response_time IS NOT NULL;\n",
        "```"
      ],
      "metadata": {
        "id": "nCx80g9RSmh7"
      }
    },
    {
      "cell_type": "markdown",
      "source": [
        "Такой запрос может помочь:\n",
        "- Обнаруживать технические проблемы с поисковым движком.\n",
        "- Анализировать производительность интерфейса.\n",
        "- Оценивать пользовательское поведение."
      ],
      "metadata": {
        "id": "DlvK_tWd9yye"
      }
    }
  ]
}